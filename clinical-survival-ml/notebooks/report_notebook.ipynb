{
 "cells": [
  {
   "cell_type": "markdown",
   "metadata": {},
   "source": ["# Report notebook\n", "Parameterised notebook for report generation."]
  }
 ],
 "metadata": {
  "kernelspec": {
   "display_name": "Python 3",
   "language": "python",
   "name": "python3"
  }
 },
 "nbformat": 4,
 "nbformat_minor": 5
}
